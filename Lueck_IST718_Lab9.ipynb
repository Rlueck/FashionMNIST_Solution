{
 "cells": [
  {
   "cell_type": "markdown",
   "metadata": {},
   "source": [
    "# Import Necessary Libraries"
   ]
  },
  {
   "cell_type": "code",
   "execution_count": 1,
   "metadata": {},
   "outputs": [
    {
     "name": "stderr",
     "output_type": "stream",
     "text": [
      "Using TensorFlow backend.\n",
      "C:\\Users\\Randy\\AppData\\Local\\conda\\conda\\envs\\tensorflow\\lib\\site-packages\\sklearn\\ensemble\\weight_boosting.py:29: DeprecationWarning: numpy.core.umath_tests is an internal NumPy module and should not be imported. It will be removed in a future NumPy release.\n",
      "  from numpy.core.umath_tests import inner1d\n"
     ]
    }
   ],
   "source": [
    "import os\n",
    "import keras\n",
    "from keras.models import Sequential\n",
    "from keras.layers import Conv2D, MaxPooling2D, Dense, Flatten, Dropout\n",
    "from keras.optimizers import Adam\n",
    "from keras.callbacks import TensorBoard\n",
    "\n",
    "import numpy as np\n",
    "import pandas as pd\n",
    "import matplotlib.pyplot as plt\n",
    "import seaborn as sns\n",
    "from sklearn.model_selection import train_test_split\n",
    "from sklearn.ensemble import RandomForestClassifier\n",
    "from sklearn import datasets, linear_model\n",
    "from sklearn.metrics import mean_squared_error, r2_score\n",
    "import tensorflow as tf\n",
    "\n",
    "from IPython.core.interactiveshell import InteractiveShell #show all work\n",
    "InteractiveShell.ast_node_interactivity = \"all\" #works with Interactiveshell to display work for every code block"
   ]
  },
  {
   "cell_type": "code",
   "execution_count": 2,
   "metadata": {},
   "outputs": [
    {
     "name": "stdout",
     "output_type": "stream",
     "text": [
      "b'Hello, Tensorflow!'\n"
     ]
    }
   ],
   "source": [
    "#TF Test\n",
    "hello = tf.constant('Hello, Tensorflow!')\n",
    "sess = tf.Session()\n",
    "print(sess.run(hello))"
   ]
  },
  {
   "cell_type": "markdown",
   "metadata": {},
   "source": [
    "# Import and Check Data"
   ]
  },
  {
   "cell_type": "code",
   "execution_count": 3,
   "metadata": {},
   "outputs": [
    {
     "data": {
      "text/plain": [
       "(60000, 785)"
      ]
     },
     "execution_count": 3,
     "metadata": {},
     "output_type": "execute_result"
    },
    {
     "data": {
      "text/plain": [
       "(10000, 785)"
      ]
     },
     "execution_count": 3,
     "metadata": {},
     "output_type": "execute_result"
    }
   ],
   "source": [
    "#dataset was already combined at www.kaggle.com in two csv files\n",
    "fmnist_train = pd.read_csv(r\"C:\\Users\\Randy\\Dropbox\\Syracuse\\iSchool\\IST718\\Homework\\Labs\\Lab3\\data\\fashion-mnist_train.csv\")\n",
    "fmnist_test = pd.read_csv(r\"C:\\Users\\Randy\\Dropbox\\Syracuse\\iSchool\\IST718\\Homework\\Labs\\Lab3\\data\\fashion-mnist_test.csv\")\n",
    "\n",
    "fmnist_train.shape\n",
    "fmnist_test.shape"
   ]
  },
  {
   "cell_type": "markdown",
   "metadata": {},
   "source": [
    "# Visualize the Data"
   ]
  },
  {
   "cell_type": "code",
   "execution_count": 4,
   "metadata": {},
   "outputs": [
    {
     "data": {
      "text/html": [
       "<div>\n",
       "<style scoped>\n",
       "    .dataframe tbody tr th:only-of-type {\n",
       "        vertical-align: middle;\n",
       "    }\n",
       "\n",
       "    .dataframe tbody tr th {\n",
       "        vertical-align: top;\n",
       "    }\n",
       "\n",
       "    .dataframe thead th {\n",
       "        text-align: right;\n",
       "    }\n",
       "</style>\n",
       "<table border=\"1\" class=\"dataframe\">\n",
       "  <thead>\n",
       "    <tr style=\"text-align: right;\">\n",
       "      <th></th>\n",
       "      <th>label</th>\n",
       "      <th>pixel1</th>\n",
       "      <th>pixel2</th>\n",
       "      <th>pixel3</th>\n",
       "      <th>pixel4</th>\n",
       "      <th>pixel5</th>\n",
       "      <th>pixel6</th>\n",
       "      <th>pixel7</th>\n",
       "      <th>pixel8</th>\n",
       "      <th>pixel9</th>\n",
       "      <th>...</th>\n",
       "      <th>pixel775</th>\n",
       "      <th>pixel776</th>\n",
       "      <th>pixel777</th>\n",
       "      <th>pixel778</th>\n",
       "      <th>pixel779</th>\n",
       "      <th>pixel780</th>\n",
       "      <th>pixel781</th>\n",
       "      <th>pixel782</th>\n",
       "      <th>pixel783</th>\n",
       "      <th>pixel784</th>\n",
       "    </tr>\n",
       "  </thead>\n",
       "  <tbody>\n",
       "    <tr>\n",
       "      <th>0</th>\n",
       "      <td>pullover</td>\n",
       "      <td>0</td>\n",
       "      <td>0</td>\n",
       "      <td>0</td>\n",
       "      <td>0</td>\n",
       "      <td>0</td>\n",
       "      <td>0</td>\n",
       "      <td>0</td>\n",
       "      <td>0</td>\n",
       "      <td>0</td>\n",
       "      <td>...</td>\n",
       "      <td>0</td>\n",
       "      <td>0</td>\n",
       "      <td>0</td>\n",
       "      <td>0</td>\n",
       "      <td>0</td>\n",
       "      <td>0</td>\n",
       "      <td>0</td>\n",
       "      <td>0</td>\n",
       "      <td>0</td>\n",
       "      <td>0</td>\n",
       "    </tr>\n",
       "    <tr>\n",
       "      <th>1</th>\n",
       "      <td>ankle_boot</td>\n",
       "      <td>0</td>\n",
       "      <td>0</td>\n",
       "      <td>0</td>\n",
       "      <td>0</td>\n",
       "      <td>0</td>\n",
       "      <td>0</td>\n",
       "      <td>0</td>\n",
       "      <td>0</td>\n",
       "      <td>0</td>\n",
       "      <td>...</td>\n",
       "      <td>0</td>\n",
       "      <td>0</td>\n",
       "      <td>0</td>\n",
       "      <td>0</td>\n",
       "      <td>0</td>\n",
       "      <td>0</td>\n",
       "      <td>0</td>\n",
       "      <td>0</td>\n",
       "      <td>0</td>\n",
       "      <td>0</td>\n",
       "    </tr>\n",
       "    <tr>\n",
       "      <th>2</th>\n",
       "      <td>shirt</td>\n",
       "      <td>0</td>\n",
       "      <td>0</td>\n",
       "      <td>0</td>\n",
       "      <td>0</td>\n",
       "      <td>0</td>\n",
       "      <td>0</td>\n",
       "      <td>0</td>\n",
       "      <td>5</td>\n",
       "      <td>0</td>\n",
       "      <td>...</td>\n",
       "      <td>0</td>\n",
       "      <td>0</td>\n",
       "      <td>0</td>\n",
       "      <td>30</td>\n",
       "      <td>43</td>\n",
       "      <td>0</td>\n",
       "      <td>0</td>\n",
       "      <td>0</td>\n",
       "      <td>0</td>\n",
       "      <td>0</td>\n",
       "    </tr>\n",
       "    <tr>\n",
       "      <th>3</th>\n",
       "      <td>t_shirt</td>\n",
       "      <td>0</td>\n",
       "      <td>0</td>\n",
       "      <td>0</td>\n",
       "      <td>1</td>\n",
       "      <td>2</td>\n",
       "      <td>0</td>\n",
       "      <td>0</td>\n",
       "      <td>0</td>\n",
       "      <td>0</td>\n",
       "      <td>...</td>\n",
       "      <td>3</td>\n",
       "      <td>0</td>\n",
       "      <td>0</td>\n",
       "      <td>0</td>\n",
       "      <td>0</td>\n",
       "      <td>1</td>\n",
       "      <td>0</td>\n",
       "      <td>0</td>\n",
       "      <td>0</td>\n",
       "      <td>0</td>\n",
       "    </tr>\n",
       "    <tr>\n",
       "      <th>4</th>\n",
       "      <td>dress</td>\n",
       "      <td>0</td>\n",
       "      <td>0</td>\n",
       "      <td>0</td>\n",
       "      <td>0</td>\n",
       "      <td>0</td>\n",
       "      <td>0</td>\n",
       "      <td>0</td>\n",
       "      <td>0</td>\n",
       "      <td>0</td>\n",
       "      <td>...</td>\n",
       "      <td>0</td>\n",
       "      <td>0</td>\n",
       "      <td>0</td>\n",
       "      <td>0</td>\n",
       "      <td>0</td>\n",
       "      <td>0</td>\n",
       "      <td>0</td>\n",
       "      <td>0</td>\n",
       "      <td>0</td>\n",
       "      <td>0</td>\n",
       "    </tr>\n",
       "  </tbody>\n",
       "</table>\n",
       "<p>5 rows × 785 columns</p>\n",
       "</div>"
      ],
      "text/plain": [
       "        label  pixel1  pixel2  pixel3  pixel4  pixel5  pixel6  pixel7  pixel8  \\\n",
       "0    pullover       0       0       0       0       0       0       0       0   \n",
       "1  ankle_boot       0       0       0       0       0       0       0       0   \n",
       "2       shirt       0       0       0       0       0       0       0       5   \n",
       "3     t_shirt       0       0       0       1       2       0       0       0   \n",
       "4       dress       0       0       0       0       0       0       0       0   \n",
       "\n",
       "   pixel9    ...     pixel775  pixel776  pixel777  pixel778  pixel779  \\\n",
       "0       0    ...            0         0         0         0         0   \n",
       "1       0    ...            0         0         0         0         0   \n",
       "2       0    ...            0         0         0        30        43   \n",
       "3       0    ...            3         0         0         0         0   \n",
       "4       0    ...            0         0         0         0         0   \n",
       "\n",
       "   pixel780  pixel781  pixel782  pixel783  pixel784  \n",
       "0         0         0         0         0         0  \n",
       "1         0         0         0         0         0  \n",
       "2         0         0         0         0         0  \n",
       "3         1         0         0         0         0  \n",
       "4         0         0         0         0         0  \n",
       "\n",
       "[5 rows x 785 columns]"
      ]
     },
     "execution_count": 4,
     "metadata": {},
     "output_type": "execute_result"
    }
   ],
   "source": [
    "#visualize number of each article of clothing to check distribution\n",
    "label = {0:'t_shirt', 1:'trouser', 2:'pullover', 3:'dress', 4:'coat', 5:'sandal', 6:'shirt', 7:'sneaker', 8:'bag',\n",
    "         9:'ankle_boot'} \n",
    "\n",
    "#create a version of fmnist_train to visualize data\n",
    "viz_fmnist = fmnist_train.copy()\n",
    "\n",
    "#assign labels to clothing types\n",
    "viz_fmnist['label'] = viz_fmnist['label'].map(label)\n",
    "\n",
    "viz_fmnist.head(5)"
   ]
  },
  {
   "cell_type": "code",
   "execution_count": 5,
   "metadata": {},
   "outputs": [
    {
     "data": {
      "text/html": [
       "<div>\n",
       "<style scoped>\n",
       "    .dataframe tbody tr th:only-of-type {\n",
       "        vertical-align: middle;\n",
       "    }\n",
       "\n",
       "    .dataframe tbody tr th {\n",
       "        vertical-align: top;\n",
       "    }\n",
       "\n",
       "    .dataframe thead th {\n",
       "        text-align: right;\n",
       "    }\n",
       "</style>\n",
       "<table border=\"1\" class=\"dataframe\">\n",
       "  <thead>\n",
       "    <tr style=\"text-align: right;\">\n",
       "      <th></th>\n",
       "      <th>label</th>\n",
       "      <th>pixel_sum</th>\n",
       "    </tr>\n",
       "  </thead>\n",
       "  <tbody>\n",
       "    <tr>\n",
       "      <th>0</th>\n",
       "      <td>pullover</td>\n",
       "      <td>478</td>\n",
       "    </tr>\n",
       "    <tr>\n",
       "      <th>1</th>\n",
       "      <td>ankle_boot</td>\n",
       "      <td>340</td>\n",
       "    </tr>\n",
       "    <tr>\n",
       "      <th>2</th>\n",
       "      <td>shirt</td>\n",
       "      <td>504</td>\n",
       "    </tr>\n",
       "    <tr>\n",
       "      <th>3</th>\n",
       "      <td>t_shirt</td>\n",
       "      <td>481</td>\n",
       "    </tr>\n",
       "    <tr>\n",
       "      <th>4</th>\n",
       "      <td>dress</td>\n",
       "      <td>360</td>\n",
       "    </tr>\n",
       "  </tbody>\n",
       "</table>\n",
       "</div>"
      ],
      "text/plain": [
       "        label  pixel_sum\n",
       "0    pullover        478\n",
       "1  ankle_boot        340\n",
       "2       shirt        504\n",
       "3     t_shirt        481\n",
       "4       dress        360"
      ]
     },
     "execution_count": 5,
     "metadata": {},
     "output_type": "execute_result"
    }
   ],
   "source": [
    "#change values greater than 0 to 1 for easy counting of pixels\n",
    "viz_fmnist.iloc[:, 1:784] = np.where(viz_fmnist.iloc[:, 1:784] > 0, 1, 0)\n",
    "\n",
    "#get pixel count per row\n",
    "viz_fmnist['pixel_sum'] = viz_fmnist.iloc[:, 1:784].sum(axis = 1)\n",
    "\n",
    "#remove unwanted data\n",
    "viz_fmnist = viz_fmnist[['label', 'pixel_sum']]\n",
    "\n",
    "viz_fmnist.head(5)"
   ]
  },
  {
   "cell_type": "code",
   "execution_count": 6,
   "metadata": {},
   "outputs": [
    {
     "data": {
      "text/plain": [
       "Text(0.5,1,'Count of Article Types')"
      ]
     },
     "execution_count": 6,
     "metadata": {},
     "output_type": "execute_result"
    },
    {
     "data": {
      "text/plain": [
       "(array([0, 1, 2, 3, 4, 5, 6, 7, 8, 9]), <a list of 10 Text xticklabel objects>)"
      ]
     },
     "execution_count": 6,
     "metadata": {},
     "output_type": "execute_result"
    },
    {
     "data": {
      "image/png": "[encoded data removed]",
      "text/plain": [
       "<Figure size 432x288 with 1 Axes>"
      ]
     },
     "metadata": {
      "needs_background": "light"
     },
     "output_type": "display_data"
    }
   ],
   "source": [
    "#view count of each type of article in a histogram\n",
    "sns.countplot(viz_fmnist['label']).set_title('Count of Article Types')\n",
    "plt.xticks(rotation=45)"
   ]
  },
  {
   "cell_type": "code",
   "execution_count": 7,
   "metadata": {},
   "outputs": [
    {
     "data": {
      "text/plain": [
       "(array([0, 1, 2, 3, 4, 5, 6, 7, 8, 9]), <a list of 10 Text xticklabel objects>)"
      ]
     },
     "execution_count": 7,
     "metadata": {},
     "output_type": "execute_result"
    },
    {
     "data": {
      "image/png": "[encoded data removed]",
      "text/plain": [
       "<Figure size 576x576 with 1 Axes>"
      ]
     },
     "metadata": {},
     "output_type": "display_data"
    }
   ],
   "source": [
    "#variance of pixels used per type of clothing\n",
    "sns.set_style('ticks')\n",
    "fig, ax = plt.subplots()\n",
    "\n",
    "fig.set_size_inches(8, 8)\n",
    "\n",
    "ax = sns.stripplot(x=\"label\", y=\"pixel_sum\", hue=\"label\", data=viz_fmnist,\n",
    "                   jitter = True).set_title('Pixel Count Variation Per Article')\n",
    "\n",
    "plt.legend().set_visible(False)\n",
    "plt.xticks(rotation = 45)\n",
    "plt.show()"
   ]
  },
  {
   "cell_type": "code",
   "execution_count": 8,
   "metadata": {},
   "outputs": [],
   "source": [
    "#function to easily view any item in the training set\n",
    "def fashion_viz(row_nums):\n",
    "    \n",
    "    #separate labels from pixels to visualize the data\n",
    "    pixels = fmnist_train.iloc[:, 1:]\n",
    "    labels = fmnist_train.iloc[:, 0:1]\n",
    "       \n",
    "    pixel = pixels.loc[row_nums]\n",
    "    pixel = np.array(pixel, dtype = 'int32')\n",
    "    pixel = pixel.reshape((28,28))\n",
    "     \n",
    "    plt.imshow(pixel)\n",
    "    plt.show\n",
    "    "
   ]
  },
  {
   "cell_type": "code",
   "execution_count": 9,
   "metadata": {},
   "outputs": [
    {
     "data": {
      "image/png": "[encoded data removed]",
      "text/plain": [
       "<Figure size 432x288 with 1 Axes>"
      ]
     },
     "metadata": {},
     "output_type": "display_data"
    }
   ],
   "source": [
    "#show some visualization of the fashion mnist data.  changing the number in parentheses shows different articles of clothing.\n",
    "fashion_viz(25)"
   ]
  },
  {
   "cell_type": "markdown",
   "metadata": {},
   "source": [
    "# Add Feature Data"
   ]
  },
  {
   "cell_type": "code",
   "execution_count": 10,
   "metadata": {},
   "outputs": [],
   "source": [
    "label = {0:'t_shirt', 1:'trouser', 2:'pullover', 3:'dress', 4:'coat', 5:'sandal', 6:'shirt', 7:'sneaker', 8:'bag',\n",
    "         9:'ankle_boot'} \n",
    "\n",
    "#add a min and max pixel count column to the training and test data above to help prediction\n",
    "min_max_dict = {0: {'0':{'min_pixels':200, 'max_pixels':710}},\n",
    "                1: {'1':{'min_pixels':150, 'max_pixels':650}},\n",
    "                2: {'2':{'min_pixels':200, 'max_pixels':710}},\n",
    "                3: {'3':{'min_pixels':300, 'max_pixels':700}},\n",
    "                4: {'4':{'min_pixels':280, 'max_pixels':700}},\n",
    "                5: {'5':{'min_pixels':95,  'max_pixels':550}},\n",
    "                6: {'6':{'min_pixels':250, 'max_pixels':720}},\n",
    "                7: {'7':{'min_pixels':180, 'max_pixels':500}},\n",
    "                8: {'8':{'min_pixels':150, 'max_pixels':710}},\n",
    "                9: {'9':{'min_pixels':220, 'max_pixels':600}}}\n",
    "                 \n",
    "\n",
    "min_max_pixels = pd.DataFrame.from_dict({(i,j): min_max_dict[i][j] \n",
    "                           for i in min_max_dict.keys() \n",
    "                           for j in min_max_dict[i].keys()},\n",
    "                       orient='index')\n",
    "min_max_pixels.index = [0,1,2,3,4,5,6,7,8,9]"
   ]
  },
  {
   "cell_type": "code",
   "execution_count": 11,
   "metadata": {},
   "outputs": [],
   "source": [
    "#add the new feature data to the training and test sets\n",
    "rf_train = pd.merge(fmnist_train.copy(), min_max_pixels, how='left', left_on='label', right_on=min_max_pixels.index)\n",
    "rf_test = pd.merge(fmnist_test.copy(), min_max_pixels, how='left', left_on='label', right_on=min_max_pixels.index)"
   ]
  },
  {
   "cell_type": "markdown",
   "metadata": {},
   "source": [
    "# Build Train and Test DFs for Random Forest"
   ]
  },
  {
   "cell_type": "code",
   "execution_count": 12,
   "metadata": {},
   "outputs": [],
   "source": [
    "#separate labels and pixels to build a training and validation set for the random forest (RF) model.\n",
    "labels = rf_train.iloc[:, 0]\n",
    "pixels = rf_train.iloc[:, 1:]\n",
    "\n",
    "#set up training and validate data for a random forest model\n",
    "rfx_train, rfx_validate, rfy_train, rfy_validate= train_test_split(pixels, labels, random_state = 1776, test_size=0.2)"
   ]
  },
  {
   "cell_type": "code",
   "execution_count": 13,
   "metadata": {},
   "outputs": [
    {
     "name": "stdout",
     "output_type": "stream",
     "text": [
      "rfx_train shape: (48000, 786)\n",
      "rfx_validate shape: (12000, 786)\n"
     ]
    }
   ],
   "source": [
    "print('rfx_train shape: {}'.format(rfx_train.shape))\n",
    "print('rfx_validate shape: {}'.format(rfx_validate.shape))"
   ]
  },
  {
   "cell_type": "markdown",
   "metadata": {},
   "source": [
    "# Random Forest Model (RF)"
   ]
  },
  {
   "cell_type": "code",
   "execution_count": 14,
   "metadata": {},
   "outputs": [
    {
     "name": "stdout",
     "output_type": "stream",
     "text": [
      "Wall time: 10.8 s\n"
     ]
    }
   ],
   "source": [
    "%%time\n",
    "\n",
    "#build a random forest model to attempt to predict image categories\n",
    "rf_model = RandomForestClassifier(bootstrap=True, class_weight=None, criterion='gini',\n",
    "            max_depth=None, max_features='auto', max_leaf_nodes=100,\n",
    "            min_impurity_decrease=0.0, min_impurity_split=None,\n",
    "            min_samples_leaf=1, min_samples_split=2,\n",
    "            min_weight_fraction_leaf=0.0, n_estimators=10, n_jobs=1,\n",
    "            oob_score=False, random_state=None, verbose=0,\n",
    "            warm_start=False)\n",
    "\n",
    "rf_model.fit(rfx_train, rfy_train)"
   ]
  },
  {
   "cell_type": "code",
   "execution_count": 15,
   "metadata": {},
   "outputs": [
    {
     "data": {
      "text/plain": [
       "0.94175"
      ]
     },
     "execution_count": 15,
     "metadata": {},
     "output_type": "execute_result"
    }
   ],
   "source": [
    "#validate the RF model\n",
    "rf_prediction = rf_model.predict(rfx_validate)\n",
    "rf_model.score(rfx_validate, rfy_validate)"
   ]
  },
  {
   "cell_type": "code",
   "execution_count": 16,
   "metadata": {},
   "outputs": [
    {
     "data": {
      "text/plain": [
       "0.9448"
      ]
     },
     "execution_count": 16,
     "metadata": {},
     "output_type": "execute_result"
    }
   ],
   "source": [
    "#run rf model against test data\n",
    "rf_test_pred = rf_model.predict(rf_test.iloc[:,1:])\n",
    "rf_model.score(rf_test.iloc[:,1:], rf_test.iloc[:,0])"
   ]
  },
  {
   "cell_type": "markdown",
   "metadata": {},
   "source": [
    "# Convolution Neural Network (CNN)"
   ]
  },
  {
   "cell_type": "code",
   "execution_count": 17,
   "metadata": {},
   "outputs": [],
   "source": [
    "#turn the data back into an array and group by x and y axes to build a convolution neural network (CNN).\n",
    "\n",
    "train_array = np.array(fmnist_train, dtype = 'float32')\n",
    "test_array = np.array(fmnist_test, dtype = 'float32')\n",
    "\n",
    "#divide columns 1-784 by 255 to get a percentage value for color.\n",
    "x_train = train_array[:, 1:]/255\n",
    "y_train = train_array[:, 0]\n",
    "\n",
    "x_test = test_array[:, 1:]/255\n",
    "y_test = test_array[:, 0]"
   ]
  },
  {
   "cell_type": "code",
   "execution_count": 18,
   "metadata": {},
   "outputs": [],
   "source": [
    "#set up a training split from the training data to predict how well the training data classifies each row.\n",
    "x_train, x_validate, y_train, y_validate = train_test_split(\n",
    "    x_train, y_train, test_size = 0.2, random_state = 1776)"
   ]
  },
  {
   "cell_type": "code",
   "execution_count": 19,
   "metadata": {},
   "outputs": [
    {
     "name": "stdout",
     "output_type": "stream",
     "text": [
      "x_train shape: (48000, 28, 28, 1)\n",
      "x_test shape: (10000, 28, 28, 1)\n",
      "x_validate shape: (12000, 28, 28, 1)\n"
     ]
    }
   ],
   "source": [
    "#reshape the CNN data to easily plug in to the model\n",
    "img_rows = 28\n",
    "img_cols = 28\n",
    "batch_size = 600\n",
    "img_shape = (img_rows, img_cols, 1)\n",
    "\n",
    "x_train = x_train.reshape(x_train.shape[0], *img_shape)\n",
    "x_test = x_test.reshape(x_test.shape[0], *img_shape)\n",
    "x_validate = x_validate.reshape(x_validate.shape[0], *img_shape)\n",
    "\n",
    "print('x_train shape: {}'.format(x_train.shape))\n",
    "print('x_test shape: {}'.format(x_test.shape))\n",
    "print('x_validate shape: {}'.format(x_validate.shape))"
   ]
  },
  {
   "cell_type": "code",
   "execution_count": 20,
   "metadata": {},
   "outputs": [],
   "source": [
    "#build a convolution neural network\n",
    "cnn_model = Sequential([\n",
    "    Conv2D(filters=32, kernel_size = 2, activation = 'relu', input_shape = img_shape),\n",
    "    MaxPooling2D(pool_size=2),\n",
    "    Dropout(0.2),\n",
    "    \n",
    "    Flatten(),\n",
    "    Dense(32, activation = 'relu'),\n",
    "    Dense(10, activation = 'softmax')\n",
    "])"
   ]
  },
  {
   "cell_type": "code",
   "execution_count": 21,
   "metadata": {},
   "outputs": [],
   "source": [
    "#compile the model \n",
    "cnn_model.compile(\n",
    "    loss='sparse_categorical_crossentropy',\n",
    "    optimizer=Adam(lr=0.01),\n",
    "    metrics=['accuracy']\n",
    ")"
   ]
  },
  {
   "cell_type": "code",
   "execution_count": 22,
   "metadata": {},
   "outputs": [
    {
     "name": "stdout",
     "output_type": "stream",
     "text": [
      "Train on 48000 samples, validate on 12000 samples\n",
      "Epoch 1/10\n",
      "48000/48000 [==============================] - 11s 226us/step - loss: 0.6184 - acc: 0.7798 - val_loss: 0.3921 - val_acc: 0.8599\n",
      "Epoch 2/10\n",
      "48000/48000 [==============================] - 5s 109us/step - loss: 0.3406 - acc: 0.8780 - val_loss: 0.3379 - val_acc: 0.8795\n",
      "Epoch 3/10\n",
      "48000/48000 [==============================] - 5s 109us/step - loss: 0.2956 - acc: 0.8939 - val_loss: 0.3323 - val_acc: 0.8805\n",
      "Epoch 4/10\n",
      "48000/48000 [==============================] - 5s 111us/step - loss: 0.2758 - acc: 0.8999 - val_loss: 0.3100 - val_acc: 0.8892\n",
      "Epoch 5/10\n",
      "48000/48000 [==============================] - 5s 110us/step - loss: 0.2603 - acc: 0.9042 - val_loss: 0.2981 - val_acc: 0.8936\n",
      "Epoch 6/10\n",
      "48000/48000 [==============================] - 5s 109us/step - loss: 0.2398 - acc: 0.9129 - val_loss: 0.2919 - val_acc: 0.8999\n",
      "Epoch 7/10\n",
      "48000/48000 [==============================] - 5s 113us/step - loss: 0.2283 - acc: 0.9160 - val_loss: 0.3145 - val_acc: 0.8896\n",
      "Epoch 8/10\n",
      "48000/48000 [==============================] - 5s 110us/step - loss: 0.2221 - acc: 0.9185 - val_loss: 0.2924 - val_acc: 0.8980\n",
      "Epoch 9/10\n",
      "48000/48000 [==============================] - 5s 109us/step - loss: 0.2170 - acc: 0.9193 - val_loss: 0.3016 - val_acc: 0.8925\n",
      "Epoch 10/10\n",
      "48000/48000 [==============================] - 5s 113us/step - loss: 0.2050 - acc: 0.9241 - val_loss: 0.3031 - val_acc: 0.8962\n",
      "Wall time: 59.6 s\n"
     ]
    },
    {
     "data": {
      "text/plain": [
       "<keras.callbacks.History at 0x174d3db98d0>"
      ]
     },
     "execution_count": 22,
     "metadata": {},
     "output_type": "execute_result"
    }
   ],
   "source": [
    "%%time\n",
    "\n",
    "cnn_model.fit(\n",
    "    x_train, y_train, batch_size = batch_size, \n",
    "    epochs = 10, verbose = 1, \n",
    "    validation_data = (x_validate, y_validate),\n",
    ")"
   ]
  },
  {
   "cell_type": "code",
   "execution_count": 23,
   "metadata": {},
   "outputs": [
    {
     "name": "stdout",
     "output_type": "stream",
     "text": [
      "test loss 0.279498\n",
      "test acc: 0.905100\n"
     ]
    }
   ],
   "source": [
    "score = cnn_model.evaluate(x_test, y_test, verbose = 0)\n",
    "print('test loss {:4f}'.format(score[0]))\n",
    "print('test acc: {:4f}'.format(score[1]))"
   ]
  }
 ],
 "metadata": {
  "kernelspec": {
   "display_name": "Python 3",
   "language": "python",
   "name": "python3"
  },
  "language_info": {
   "codemirror_mode": {
    "name": "ipython",
    "version": 3
   },
   "file_extension": ".py",
   "mimetype": "text/x-python",
   "name": "python",
   "nbconvert_exporter": "python",
   "pygments_lexer": "ipython3",
   "version": "3.7.0"
  }
 },
 "nbformat": 4,
 "nbformat_minor": 2
}
